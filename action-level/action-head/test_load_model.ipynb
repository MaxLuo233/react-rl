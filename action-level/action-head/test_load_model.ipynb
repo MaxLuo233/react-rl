{
 "cells": [
  {
   "cell_type": "code",
   "execution_count": 2,
   "metadata": {},
   "outputs": [
    {
     "name": "stdout",
     "output_type": "stream",
     "text": [
      "Processing zero checkpoint '/data2/lzq/mistral-7B-action-level-PPO/global_step12'\n",
      "Detected checkpoint of type zero stage 3, world_size: 4\n",
      "Parsing checkpoint created by deepspeed==0.15.1\n",
      "Reconstructed Trainable fp32 state dict with 293 params 7242149988 elements\n"
     ]
    }
   ],
   "source": [
    "import torch\n",
    "import deepspeed\n",
    "\n",
    "checkpoint_dir = \"/data2/lzq/mistral-7B-action-level-PPO\"\n",
    "# from deepspeed.utils.zero_to_fp32 import load_state_dict_from_zero_checkpoint\n",
    "# fp32_model = load_state_dict_from_zero_checkpoint(deepspeed.module, checkpoint_dir)\n",
    "from deepspeed.utils.zero_to_fp32 import get_fp32_state_dict_from_zero_checkpoint\n",
    "state_dict = get_fp32_state_dict_from_zero_checkpoint(checkpoint_dir)"
   ]
  },
  {
   "cell_type": "code",
   "execution_count": 3,
   "metadata": {},
   "outputs": [
    {
     "name": "stderr",
     "output_type": "stream",
     "text": [
      "Loading checkpoint shards: 100%|██████████| 2/2 [00:01<00:00,  1.28it/s]\n"
     ]
    }
   ],
   "source": [
    "from mistral_with_ppo_head import MistralPPOHeadModel\n",
    "from transformers import LlamaTokenizerFast, AutoTokenizer, AutoModelForCausalLM, MistralConfig\n",
    "from ppo_head import PPOHead\n",
    "model_path = \"/share/huggingface/hub/models--mistralai--Mistral-7B-v0.1/snapshots/26bca36bde8333b5d7f72e9ed20ccda6a618af24/\"\n",
    "config = MistralConfig.from_pretrained(model_path)\n",
    "agent_model = MistralPPOHeadModel(config=config)\n",
    "agent_model_embedding_layer = agent_model.model.embed_tokens\n",
    "embedding_dim = agent_model.model.embed_tokens.embedding_dim\n",
    "agent_tokenizer = AutoTokenizer.from_pretrained(model_path)\n",
    "agent_model = agent_model.from_pretrained(model_path, torch_dtype=torch.float16)\n",
    "\n",
    "if agent_tokenizer.pad_token is None:\n",
    "    agent_tokenizer.add_special_tokens({'pad_token': '<PAD>'})\n",
    "    agent_model.resize_token_embeddings(len(agent_tokenizer))\n",
    "agent_model.set_action_head(PPOHead(input_dim=embedding_dim, output_dim=100))"
   ]
  },
  {
   "cell_type": "code",
   "execution_count": 4,
   "metadata": {},
   "outputs": [
    {
     "data": {
      "text/plain": [
       "<All keys matched successfully>"
      ]
     },
     "execution_count": 4,
     "metadata": {},
     "output_type": "execute_result"
    }
   ],
   "source": [
    "agent_model.load_state_dict(state_dict=state_dict)"
   ]
  }
 ],
 "metadata": {
  "kernelspec": {
   "display_name": "react-rl",
   "language": "python",
   "name": "python3"
  },
  "language_info": {
   "codemirror_mode": {
    "name": "ipython",
    "version": 3
   },
   "file_extension": ".py",
   "mimetype": "text/x-python",
   "name": "python",
   "nbconvert_exporter": "python",
   "pygments_lexer": "ipython3",
   "version": "3.10.14"
  }
 },
 "nbformat": 4,
 "nbformat_minor": 2
}
